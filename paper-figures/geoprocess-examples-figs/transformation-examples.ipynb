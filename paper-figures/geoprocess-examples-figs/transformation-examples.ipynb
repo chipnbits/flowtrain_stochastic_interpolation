{
 "cells": [
  {
   "cell_type": "code",
   "execution_count": 1,
   "metadata": {},
   "outputs": [],
   "source": [
    "import numpy as np\n",
    "import pyvista as pv\n",
    "\n",
    "import geogen.model as geo\n",
    "import geogen.generation as gen\n",
    "import geogen.plot as geovis\n",
    "from geogen.probability import SedimentBuilder\n",
    "\n",
    "\n",
    "pv.set_jupyter_backend('static')\n",
    "WS = (600,400) # Set a custom window size to be reused in most plots\n"
   ]
  },
  {
   "cell_type": "markdown",
   "metadata": {},
   "source": [
    "## GeoProcess Icon Sketchbook\n",
    "\n",
    "Source code for generating examples of geoprocess for paper"
   ]
  },
  {
   "cell_type": "markdown",
   "metadata": {},
   "source": [
    "### Custom Plot Type for GeoProcess Icon Sketchbook "
   ]
  },
  {
   "cell_type": "code",
   "execution_count": 2,
   "metadata": {},
   "outputs": [],
   "source": [
    "SCALING = 10.0\n",
    "\n",
    "def demoview(model, threshold=-0.5, opacity=1, plotter=None):\n",
    "\n",
    "    if plotter is None:\n",
    "        plotter = pv.Plotter(window_size=WS)\n",
    "    p=plotter\n",
    "    \n",
    "    cats = np.arange(15)   # Set the number of categories for the colormap\n",
    "    clim = [cats.min(), cats.max()] # Preset color limits for all subplots\n",
    "    \n",
    "    grid = geovis.get_voxel_grid_from_model(model, threshold=threshold)\n",
    "    skin=grid.extract_surface()\n",
    "    \n",
    "    p.add_mesh(skin,scalars='values',clim=clim,cmap='gist_ncar',opacity=opacity)\n",
    "    # p.add_axes(line_width=5)    \n",
    "    p.remove_scalar_bar()\n",
    "    \n",
    "    # flat_bounds = [item for sublist in model.bounds for item in sublist]\n",
    "    # bounding_box = pv.Box(flat_bounds)\n",
    "    bounding_box = get_trimmed_bounding_box()\n",
    "    p.add_mesh(bounding_box, color=\"black\", style=\"wireframe\", line_width=(3/2)*SCALING, name=\"bounding_box\")\n",
    "    p.camera.elevation = -20\n",
    "    # Zoom in to fill box\n",
    "    p.camera.zoom(1.35)\n",
    "    return p\n",
    "\n",
    "def get_trimmed_bounding_box():\n",
    "    new_points = np.array([\n",
    "    [-20, -20, -10],\n",
    "    [ 20, -20, -10],\n",
    "    [-20,  20, -10],\n",
    "    [ 20,  20, -10],\n",
    "    [-20, -20,  10],\n",
    "    [ 20, -20,  10],\n",
    "    [-20,  20,  10],\n",
    "])\n",
    "    lines = [\n",
    "        2, 0, 1,  # Line from point 0 to point 1\n",
    "        2, 0, 2,  # Line from point 0 to point 2\n",
    "        2, 0, 4,  # Line from point 0 to point 4\n",
    "        2, 1, 3,  # Line from point 1 to point 3\n",
    "        2, 1, 5,  # Line from point 1 to point 5\n",
    "        2, 2, 3,  # Line from point 2 to point 3\n",
    "        2, 2, 6,  # Line from point 2 to point 6\n",
    "        2, 4, 5,  # Line from point 4 to point 5\n",
    "        2, 4, 6   # Line from point 4 to point 6\n",
    "    ]\n",
    "    # Create a new PolyData for the bounding box\n",
    "    line_polydata = pv.PolyData()\n",
    "    line_polydata.points = new_points\n",
    "    line_polydata.lines = lines\n",
    "    return line_polydata\n",
    "\n",
    "def slice_volume(model, start, stop):\n",
    "    # convert to theta coords\n",
    "    theta = np.arctan2(model.xyz[:,1], model.xyz[:,0])\n",
    "    mask = (theta >= start) & (theta <= stop)\n",
    "    model.data[mask] = -1\n",
    "    return model"
   ]
  },
  {
   "cell_type": "markdown",
   "metadata": {},
   "source": [
    "### Paper Images for Sample Transforms"
   ]
  },
  {
   "cell_type": "code",
   "execution_count": 3,
   "metadata": {},
   "outputs": [],
   "source": [
    "bounds = ((-20, 20), (-20, 20), (-10, 10))\n",
    "resolution = (300,300,150)\n",
    "model = geo.GeoModel(bounds=bounds, resolution=resolution)"
   ]
  },
  {
   "cell_type": "markdown",
   "metadata": {},
   "source": [
    "#### Init Strata"
   ]
  },
  {
   "cell_type": "code",
   "execution_count": 4,
   "metadata": {},
   "outputs": [],
   "source": [
    "# Make a model with sediment layers\n",
    "value_list = [0, 2, 4, 6, 4, 3]\n",
    "thickness_list = [4, 2, 2, 3, 2, 2]\n",
    "base = -10\n",
    "sediment = geo.Sedimentation(value_list=value_list, thickness_list=thickness_list, base=base)\n",
    "\n",
    "model.clear_history()\n",
    "model.add_history(sediment)\n",
    "model.compute_model()\n",
    "model = slice_volume(model, 0, 3*np.pi/4)\n",
    "p = demoview(model, opacity=1.0)\n",
    "p.screenshot(\"images/base_strata.png\", scale=SCALING, transparent_background=True);\n"
   ]
  },
  {
   "cell_type": "code",
   "execution_count": 5,
   "metadata": {},
   "outputs": [],
   "source": [
    "def cross_layers():\n",
    "    bedrock = geo.Bedrock(base=-5, value=0)\n",
    "    vals = [1,2,3,4,1,2,3,4]\n",
    "    thicks = [1.5]\n",
    "    sediment = geo.Sedimentation(value_list=vals, thickness_list=thicks)\n",
    "    return [bedrock, sediment]\n",
    "\n",
    "def cross_layers():\n",
    "    value_list = [2, 4, 6, 4, 2]\n",
    "    thickness_list = [2, 2, 3, 2, 2]\n",
    "    base = -6\n",
    "    bedrock = geo.Bedrock(base=base, value=0)\n",
    "    sediment = geo.Sedimentation(value_list=value_list, thickness_list=thickness_list, base=base)\n",
    "    return [bedrock, sediment]\n",
    "    "
   ]
  },
  {
   "cell_type": "code",
   "execution_count": 6,
   "metadata": {},
   "outputs": [],
   "source": [
    "names = [\"fold\", \"dike\", \"fault\"]\n",
    "strata = cross_layers()\n",
    "fold = geo.Fold(strike=45, dip=90, rake=45, origin=(0, 0, 0), amplitude=3, period=20, shape=.1)\n",
    "fault = geo.Fault(strike=-90, dip=45, rake=45, origin=(0, 0, 0), amplitude=8)\n",
    "dike = geo.DikePlane(strike=10, dip=90, width=3, origin=(5, 0, 0), value=13)\n",
    "processes = [fold, dike, fault]"
   ]
  },
  {
   "cell_type": "markdown",
   "metadata": {},
   "source": [
    "### Sequential Showcase"
   ]
  },
  {
   "cell_type": "code",
   "execution_count": 7,
   "metadata": {},
   "outputs": [],
   "source": [
    "model.clear_history()\n",
    "model.add_history(strata)\n",
    "model.compute_model()\n",
    "p = demoview(model, opacity=1)\n",
    "p.screenshot(\"images/base_strata.png\", scale=SCALING, transparent_background=False);\n",
    "\n",
    "\n",
    "for name, process in zip(names, processes):\n",
    "    model.clear_data()\n",
    "    model.add_history(process)\n",
    "    model.compute_model()\n",
    "    # model = slice_volume(model, 0, 2*np.pi/4)\n",
    "    p = demoview(model, opacity=1)\n",
    "    p.screenshot(f\"images/{name}_sequential.png\", scale=SCALING, transparent_background=False);\n"
   ]
  },
  {
   "cell_type": "markdown",
   "metadata": {},
   "source": [
    "### Non-Sequential Showcase"
   ]
  },
  {
   "cell_type": "code",
   "execution_count": 8,
   "metadata": {},
   "outputs": [],
   "source": [
    "\n",
    "for name, process in zip(names, processes):\n",
    "    model.clear_history()\n",
    "    model.add_history(strata)\n",
    "    model.add_history(process)\n",
    "    model.compute_model()\n",
    "    # model = slice_volume(model, 0, 2*np.pi/4)\n",
    "    p = demoview(model, opacity=1)\n",
    "    p.screenshot(f\"images/{name}_single.png\", scale=SCALING, transparent_background=False);"
   ]
  }
 ],
 "metadata": {
  "kernelspec": {
   "display_name": "ml",
   "language": "python",
   "name": "python3"
  },
  "language_info": {
   "codemirror_mode": {
    "name": "ipython",
    "version": 3
   },
   "file_extension": ".py",
   "mimetype": "text/x-python",
   "name": "python",
   "nbconvert_exporter": "python",
   "pygments_lexer": "ipython3",
   "version": "3.12.11"
  }
 },
 "nbformat": 4,
 "nbformat_minor": 2
}
